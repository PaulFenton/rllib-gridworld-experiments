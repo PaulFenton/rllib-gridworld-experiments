{
 "cells": [
  {
   "cell_type": "code",
   "execution_count": null,
   "metadata": {},
   "outputs": [],
   "source": [
    "import os\n",
    "import ray\n",
    "from dotenv import load_dotenv\n",
    "load_dotenv()"
   ]
  },
  {
   "cell_type": "code",
   "execution_count": null,
   "metadata": {},
   "outputs": [],
   "source": [
    "CLUSTER_IP = os.getenv('CLUSTER_IP') or 'localhost'\n",
    "CLUSTER_URL = f\"ray://{CLUSTER_IP}:10001\"\n",
    "print(f\"Connecting to cluster at {CLUSTER_URL}\")\n",
    "ray.init(address=CLUSTER_URL)"
   ]
  },
  {
   "cell_type": "code",
   "execution_count": null,
   "metadata": {},
   "outputs": [],
   "source": []
  }
 ],
 "metadata": {
  "kernelspec": {
   "display_name": "Python 3.8.10 ('venv')",
   "language": "python",
   "name": "python3"
  },
  "language_info": {
   "codemirror_mode": {
    "name": "ipython",
    "version": 3
   },
   "file_extension": ".py",
   "mimetype": "text/x-python",
   "name": "python",
   "nbconvert_exporter": "python",
   "pygments_lexer": "ipython3",
   "version": "3.8.10"
  },
  "orig_nbformat": 4,
  "vscode": {
   "interpreter": {
    "hash": "2cf05b13801ce406faba0610bfbd48005868e90e6389a47cdd5cec828051691a"
   }
  }
 },
 "nbformat": 4,
 "nbformat_minor": 2
}
