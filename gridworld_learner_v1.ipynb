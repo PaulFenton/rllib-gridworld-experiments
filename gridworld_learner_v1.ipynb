{
 "cells": [
  {
   "cell_type": "code",
   "execution_count": 1,
   "metadata": {},
   "outputs": [
    {
     "name": "stderr",
     "output_type": "stream",
     "text": [
      "/tmp/ipykernel_2727/932753981.py:1: DeprecationWarning: the imp module is deprecated in favour of importlib; see the module's documentation for alternative uses\n",
      "  import imp\n",
      "/home/paul/ray/venv/lib/python3.8/site-packages/requests/__init__.py:43: DeprecationWarning: 'urllib3[secure]' extra is deprecated and will be removed in a future release of urllib3 2.x. Read more in this issue: https://github.com/urllib3/urllib3/issues/2680\n",
      "  import urllib3\n",
      "/home/paul/ray/venv/lib/python3.8/site-packages/botocore/httpsession.py:41: DeprecationWarning: 'urllib3.contrib.pyopenssl' module is deprecated and will be removed in a future release of urllib3 2.x. Read more in this issue: https://github.com/urllib3/urllib3/issues/2680\n",
      "  from urllib3.contrib.pyopenssl import orig_util_SSLContext as SSLContext\n"
     ]
    }
   ],
   "source": [
    "import imp\n",
    "import gym\n",
    "from gym import spaces\n",
    "import numpy as np\n",
    "import os\n",
    "import random\n",
    "import uuid\n",
    "\n",
    "import ray\n",
    "from ray import air, tune\n",
    "from ray.rllib.algorithms import ppo\n",
    "from ray.rllib.env.env_context import EnvContext\n",
    "from ray.rllib.models import ModelCatalog\n",
    "from ray.rllib.models.tf.tf_modelv2 import TFModelV2\n",
    "from ray.rllib.models.tf.fcnet import FullyConnectedNetwork\n",
    "from ray.rllib.utils.framework import try_import_tf, try_import_torch\n",
    "\n",
    "from environment.multi_agent_grid import MultiAgentGrid\n",
    "from model.custom_model import CustomModel\n",
    "\n",
    "tf1, tf, tfv = try_import_tf()"
   ]
  },
  {
   "cell_type": "code",
   "execution_count": 2,
   "metadata": {},
   "outputs": [
    {
     "name": "stdout",
     "output_type": "stream",
     "text": [
      "Training automatically with Ray Tune\n",
      "Usage stats collection is enabled. To disable this, run the following command: `ray disable-usage-stats` before starting Ray. See https://docs.ray.io/en/master/cluster/usage-stats.html for more details.\n"
     ]
    },
    {
     "ename": "KeyboardInterrupt",
     "evalue": "",
     "output_type": "error",
     "traceback": [
      "\u001b[0;31m---------------------------------------------------------------------------\u001b[0m",
      "\u001b[0;31m_InactiveRpcError\u001b[0m                         Traceback (most recent call last)",
      "File \u001b[0;32m~/ray/venv/lib/python3.8/site-packages/ray/_private/gcs_utils.py:177\u001b[0m, in \u001b[0;36m_auto_reconnect.<locals>.wrapper\u001b[0;34m(self, *args, **kwargs)\u001b[0m\n\u001b[1;32m    176\u001b[0m \u001b[39mtry\u001b[39;00m:\n\u001b[0;32m--> 177\u001b[0m     \u001b[39mreturn\u001b[39;00m f(\u001b[39mself\u001b[39;49m, \u001b[39m*\u001b[39;49margs, \u001b[39m*\u001b[39;49m\u001b[39m*\u001b[39;49mkwargs)\n\u001b[1;32m    178\u001b[0m \u001b[39mexcept\u001b[39;00m grpc\u001b[39m.\u001b[39mRpcError \u001b[39mas\u001b[39;00m e:\n",
      "File \u001b[0;32m~/ray/venv/lib/python3.8/site-packages/ray/_private/gcs_utils.py:296\u001b[0m, in \u001b[0;36mGcsClient.internal_kv_put\u001b[0;34m(self, key, value, overwrite, namespace, timeout)\u001b[0m\n\u001b[1;32m    290\u001b[0m req \u001b[39m=\u001b[39m gcs_service_pb2\u001b[39m.\u001b[39mInternalKVPutRequest(\n\u001b[1;32m    291\u001b[0m     namespace\u001b[39m=\u001b[39mnamespace,\n\u001b[1;32m    292\u001b[0m     key\u001b[39m=\u001b[39mkey,\n\u001b[1;32m    293\u001b[0m     value\u001b[39m=\u001b[39mvalue,\n\u001b[1;32m    294\u001b[0m     overwrite\u001b[39m=\u001b[39moverwrite,\n\u001b[1;32m    295\u001b[0m )\n\u001b[0;32m--> 296\u001b[0m reply \u001b[39m=\u001b[39m \u001b[39mself\u001b[39;49m\u001b[39m.\u001b[39;49m_kv_stub\u001b[39m.\u001b[39;49mInternalKVPut(req, timeout\u001b[39m=\u001b[39;49mtimeout)\n\u001b[1;32m    297\u001b[0m \u001b[39mif\u001b[39;00m reply\u001b[39m.\u001b[39mstatus\u001b[39m.\u001b[39mcode \u001b[39m==\u001b[39m GcsCode\u001b[39m.\u001b[39mOK:\n",
      "File \u001b[0;32m~/ray/venv/lib/python3.8/site-packages/grpc/_channel.py:946\u001b[0m, in \u001b[0;36m_UnaryUnaryMultiCallable.__call__\u001b[0;34m(self, request, timeout, metadata, credentials, wait_for_ready, compression)\u001b[0m\n\u001b[1;32m    944\u001b[0m state, call, \u001b[39m=\u001b[39m \u001b[39mself\u001b[39m\u001b[39m.\u001b[39m_blocking(request, timeout, metadata, credentials,\n\u001b[1;32m    945\u001b[0m                               wait_for_ready, compression)\n\u001b[0;32m--> 946\u001b[0m \u001b[39mreturn\u001b[39;00m _end_unary_response_blocking(state, call, \u001b[39mFalse\u001b[39;49;00m, \u001b[39mNone\u001b[39;49;00m)\n",
      "File \u001b[0;32m~/ray/venv/lib/python3.8/site-packages/grpc/_channel.py:849\u001b[0m, in \u001b[0;36m_end_unary_response_blocking\u001b[0;34m(state, call, with_call, deadline)\u001b[0m\n\u001b[1;32m    848\u001b[0m \u001b[39melse\u001b[39;00m:\n\u001b[0;32m--> 849\u001b[0m     \u001b[39mraise\u001b[39;00m _InactiveRpcError(state)\n",
      "\u001b[0;31m_InactiveRpcError\u001b[0m: <_InactiveRpcError of RPC that terminated with:\n\tstatus = StatusCode.UNAVAILABLE\n\tdetails = \"failed to connect to all addresses\"\n\tdebug_error_string = \"{\"created\":\"@1664663052.648559400\",\"description\":\"Failed to pick subchannel\",\"file\":\"src/core/ext/filters/client_channel/client_channel.cc\",\"file_line\":3134,\"referenced_errors\":[{\"created\":\"@1664663052.648558800\",\"description\":\"failed to connect to all addresses\",\"file\":\"src/core/lib/transport/error_utils.cc\",\"file_line\":163,\"grpc_status\":14}]}\"\n>",
      "\nDuring handling of the above exception, another exception occurred:\n",
      "\u001b[0;31mKeyboardInterrupt\u001b[0m                         Traceback (most recent call last)",
      "Cell \u001b[0;32mIn [2], line 42\u001b[0m\n\u001b[1;32m     35\u001b[0m stop \u001b[38;5;241m=\u001b[39m {\n\u001b[1;32m     36\u001b[0m     \u001b[38;5;124m\"\u001b[39m\u001b[38;5;124mtraining_iteration\u001b[39m\u001b[38;5;124m\"\u001b[39m: \u001b[38;5;241m10\u001b[39m,\n\u001b[1;32m     37\u001b[0m     \u001b[38;5;124m\"\u001b[39m\u001b[38;5;124mtimesteps_total\u001b[39m\u001b[38;5;124m\"\u001b[39m: \u001b[38;5;241m10000\u001b[39m\n\u001b[1;32m     38\u001b[0m }\n\u001b[1;32m     40\u001b[0m \u001b[38;5;28mprint\u001b[39m(\u001b[38;5;124m\"\u001b[39m\u001b[38;5;124mTraining automatically with Ray Tune\u001b[39m\u001b[38;5;124m\"\u001b[39m)\n\u001b[0;32m---> 42\u001b[0m \u001b[43mray\u001b[49m\u001b[38;5;241;43m.\u001b[39;49m\u001b[43minit\u001b[49m\u001b[43m(\u001b[49m\u001b[43minclude_dashboard\u001b[49m\u001b[38;5;241;43m=\u001b[39;49m\u001b[38;5;28;43;01mTrue\u001b[39;49;00m\u001b[43m,\u001b[49m\u001b[43m \u001b[49m\u001b[43mnum_gpus\u001b[49m\u001b[38;5;241;43m=\u001b[39;49m\u001b[38;5;241;43m8\u001b[39;49m\u001b[43m)\u001b[49m\n\u001b[1;32m     43\u001b[0m tuner \u001b[38;5;241m=\u001b[39m tune\u001b[38;5;241m.\u001b[39mTuner(\n\u001b[1;32m     44\u001b[0m     \u001b[38;5;124m\"\u001b[39m\u001b[38;5;124mPPO\u001b[39m\u001b[38;5;124m\"\u001b[39m,\n\u001b[1;32m     45\u001b[0m     param_space\u001b[38;5;241m=\u001b[39mconfig,\n\u001b[1;32m     46\u001b[0m     run_config\u001b[38;5;241m=\u001b[39mair\u001b[38;5;241m.\u001b[39mRunConfig(stop\u001b[38;5;241m=\u001b[39mstop),\n\u001b[1;32m     47\u001b[0m     tune_config\u001b[38;5;241m=\u001b[39mtune\u001b[38;5;241m.\u001b[39mTuneConfig(num_samples\u001b[38;5;241m=\u001b[39m\u001b[38;5;241m1\u001b[39m)\n\u001b[1;32m     48\u001b[0m )\n\u001b[1;32m     49\u001b[0m results \u001b[38;5;241m=\u001b[39m tuner\u001b[38;5;241m.\u001b[39mfit()\n",
      "File \u001b[0;32m~/ray/venv/lib/python3.8/site-packages/ray/_private/client_mode_hook.py:105\u001b[0m, in \u001b[0;36mclient_mode_hook.<locals>.wrapper\u001b[0;34m(*args, **kwargs)\u001b[0m\n\u001b[1;32m    103\u001b[0m     \u001b[39mif\u001b[39;00m func\u001b[39m.\u001b[39m\u001b[39m__name__\u001b[39m \u001b[39m!=\u001b[39m \u001b[39m\"\u001b[39m\u001b[39minit\u001b[39m\u001b[39m\"\u001b[39m \u001b[39mor\u001b[39;00m is_client_mode_enabled_by_default:\n\u001b[1;32m    104\u001b[0m         \u001b[39mreturn\u001b[39;00m \u001b[39mgetattr\u001b[39m(ray, func\u001b[39m.\u001b[39m\u001b[39m__name__\u001b[39m)(\u001b[39m*\u001b[39margs, \u001b[39m*\u001b[39m\u001b[39m*\u001b[39mkwargs)\n\u001b[0;32m--> 105\u001b[0m \u001b[39mreturn\u001b[39;00m func(\u001b[39m*\u001b[39;49margs, \u001b[39m*\u001b[39;49m\u001b[39m*\u001b[39;49mkwargs)\n",
      "File \u001b[0;32m~/ray/venv/lib/python3.8/site-packages/ray/_private/worker.py:1419\u001b[0m, in \u001b[0;36minit\u001b[0;34m(address, num_cpus, num_gpus, resources, object_store_memory, local_mode, ignore_reinit_error, include_dashboard, dashboard_host, dashboard_port, job_config, configure_logging, logging_level, logging_format, log_to_driver, namespace, runtime_env, storage, **kwargs)\u001b[0m\n\u001b[1;32m   1377\u001b[0m     ray_params \u001b[39m=\u001b[39m ray\u001b[39m.\u001b[39m_private\u001b[39m.\u001b[39mparameter\u001b[39m.\u001b[39mRayParams(\n\u001b[1;32m   1378\u001b[0m         node_ip_address\u001b[39m=\u001b[39mnode_ip_address,\n\u001b[1;32m   1379\u001b[0m         raylet_ip_address\u001b[39m=\u001b[39mraylet_ip_address,\n\u001b[0;32m   (...)\u001b[0m\n\u001b[1;32m   1413\u001b[0m         node_name\u001b[39m=\u001b[39m_node_name,\n\u001b[1;32m   1414\u001b[0m     )\n\u001b[1;32m   1415\u001b[0m     \u001b[39m# Start the Ray processes. We set shutdown_at_exit=False because we\u001b[39;00m\n\u001b[1;32m   1416\u001b[0m     \u001b[39m# shutdown the node in the ray.shutdown call that happens in the atexit\u001b[39;00m\n\u001b[1;32m   1417\u001b[0m     \u001b[39m# handler. We still spawn a reaper process in case the atexit handler\u001b[39;00m\n\u001b[1;32m   1418\u001b[0m     \u001b[39m# isn't called.\u001b[39;00m\n\u001b[0;32m-> 1419\u001b[0m     _global_node \u001b[39m=\u001b[39m ray\u001b[39m.\u001b[39;49m_private\u001b[39m.\u001b[39;49mnode\u001b[39m.\u001b[39;49mNode(\n\u001b[1;32m   1420\u001b[0m         head\u001b[39m=\u001b[39;49m\u001b[39mTrue\u001b[39;49;00m, shutdown_at_exit\u001b[39m=\u001b[39;49m\u001b[39mFalse\u001b[39;49;00m, spawn_reaper\u001b[39m=\u001b[39;49m\u001b[39mTrue\u001b[39;49;00m, ray_params\u001b[39m=\u001b[39;49mray_params\n\u001b[1;32m   1421\u001b[0m     )\n\u001b[1;32m   1422\u001b[0m \u001b[39melse\u001b[39;00m:\n\u001b[1;32m   1423\u001b[0m     \u001b[39m# In this case, we are connecting to an existing cluster.\u001b[39;00m\n\u001b[1;32m   1424\u001b[0m     \u001b[39mif\u001b[39;00m num_cpus \u001b[39mis\u001b[39;00m \u001b[39mnot\u001b[39;00m \u001b[39mNone\u001b[39;00m \u001b[39mor\u001b[39;00m num_gpus \u001b[39mis\u001b[39;00m \u001b[39mnot\u001b[39;00m \u001b[39mNone\u001b[39;00m:\n",
      "File \u001b[0;32m~/ray/venv/lib/python3.8/site-packages/ray/_private/node.py:271\u001b[0m, in \u001b[0;36mNode.__init__\u001b[0;34m(self, ray_params, head, shutdown_at_exit, spawn_reaper, connect_only)\u001b[0m\n\u001b[1;32m    269\u001b[0m \u001b[39m# Start processes.\u001b[39;00m\n\u001b[1;32m    270\u001b[0m \u001b[39mif\u001b[39;00m head:\n\u001b[0;32m--> 271\u001b[0m     \u001b[39mself\u001b[39;49m\u001b[39m.\u001b[39;49mstart_head_processes()\n\u001b[1;32m    272\u001b[0m     \u001b[39m# Make sure GCS is up.\u001b[39;00m\n\u001b[1;32m    273\u001b[0m     \u001b[39mself\u001b[39m\u001b[39m.\u001b[39mget_gcs_client()\u001b[39m.\u001b[39minternal_kv_put(\n\u001b[1;32m    274\u001b[0m         \u001b[39mb\u001b[39m\u001b[39m\"\u001b[39m\u001b[39msession_name\u001b[39m\u001b[39m\"\u001b[39m,\n\u001b[1;32m    275\u001b[0m         \u001b[39mself\u001b[39m\u001b[39m.\u001b[39msession_name\u001b[39m.\u001b[39mencode(),\n\u001b[1;32m    276\u001b[0m         \u001b[39mTrue\u001b[39;00m,\n\u001b[1;32m    277\u001b[0m         ray_constants\u001b[39m.\u001b[39mKV_NAMESPACE_SESSION,\n\u001b[1;32m    278\u001b[0m     )\n",
      "File \u001b[0;32m~/ray/venv/lib/python3.8/site-packages/ray/_private/node.py:1060\u001b[0m, in \u001b[0;36mNode.start_head_processes\u001b[0;34m(self)\u001b[0m\n\u001b[1;32m   1058\u001b[0m \u001b[39mself\u001b[39m\u001b[39m.\u001b[39mstart_gcs_server()\n\u001b[1;32m   1059\u001b[0m \u001b[39massert\u001b[39;00m \u001b[39mself\u001b[39m\u001b[39m.\u001b[39m_gcs_client \u001b[39mis\u001b[39;00m \u001b[39mnot\u001b[39;00m \u001b[39mNone\u001b[39;00m\n\u001b[0;32m-> 1060\u001b[0m \u001b[39mself\u001b[39;49m\u001b[39m.\u001b[39;49m_write_cluster_info_to_kv()\n\u001b[1;32m   1062\u001b[0m \u001b[39mif\u001b[39;00m \u001b[39mnot\u001b[39;00m \u001b[39mself\u001b[39m\u001b[39m.\u001b[39m_ray_params\u001b[39m.\u001b[39mno_monitor:\n\u001b[1;32m   1063\u001b[0m     \u001b[39mself\u001b[39m\u001b[39m.\u001b[39mstart_monitor()\n",
      "File \u001b[0;32m~/ray/venv/lib/python3.8/site-packages/ray/_private/node.py:1044\u001b[0m, in \u001b[0;36mNode._write_cluster_info_to_kv\u001b[0;34m(self)\u001b[0m\n\u001b[1;32m   1041\u001b[0m \u001b[39m# Make sure the cluster metadata wasn't reported before.\u001b[39;00m\n\u001b[1;32m   1042\u001b[0m \u001b[39mimport\u001b[39;00m \u001b[39mray\u001b[39;00m\u001b[39m.\u001b[39;00m\u001b[39m_private\u001b[39;00m\u001b[39m.\u001b[39;00m\u001b[39musage\u001b[39;00m\u001b[39m.\u001b[39;00m\u001b[39musage_lib\u001b[39;00m \u001b[39mas\u001b[39;00m \u001b[39mray_usage_lib\u001b[39;00m\n\u001b[0;32m-> 1044\u001b[0m ray_usage_lib\u001b[39m.\u001b[39;49mput_cluster_metadata(\u001b[39mself\u001b[39;49m\u001b[39m.\u001b[39;49mget_gcs_client())\n",
      "File \u001b[0;32m~/ray/venv/lib/python3.8/site-packages/ray/_private/usage/usage_lib.py:541\u001b[0m, in \u001b[0;36mput_cluster_metadata\u001b[0;34m(gcs_client)\u001b[0m\n\u001b[1;32m    530\u001b[0m \u001b[39m\"\"\"Generate the cluster metadata and store it to GCS.\u001b[39;00m\n\u001b[1;32m    531\u001b[0m \n\u001b[1;32m    532\u001b[0m \u001b[39mIt is a blocking API.\u001b[39;00m\n\u001b[0;32m   (...)\u001b[0m\n\u001b[1;32m    538\u001b[0m \u001b[39m    gRPC exceptions if PUT fails.\u001b[39;00m\n\u001b[1;32m    539\u001b[0m \u001b[39m\"\"\"\u001b[39;00m\n\u001b[1;32m    540\u001b[0m metadata \u001b[39m=\u001b[39m _generate_cluster_metadata()\n\u001b[0;32m--> 541\u001b[0m gcs_client\u001b[39m.\u001b[39;49minternal_kv_put(\n\u001b[1;32m    542\u001b[0m     usage_constant\u001b[39m.\u001b[39;49mCLUSTER_METADATA_KEY,\n\u001b[1;32m    543\u001b[0m     json\u001b[39m.\u001b[39;49mdumps(metadata)\u001b[39m.\u001b[39;49mencode(),\n\u001b[1;32m    544\u001b[0m     overwrite\u001b[39m=\u001b[39;49m\u001b[39mTrue\u001b[39;49;00m,\n\u001b[1;32m    545\u001b[0m     namespace\u001b[39m=\u001b[39;49mray_constants\u001b[39m.\u001b[39;49mKV_NAMESPACE_CLUSTER,\n\u001b[1;32m    546\u001b[0m )\n\u001b[1;32m    547\u001b[0m \u001b[39mreturn\u001b[39;00m metadata\n",
      "File \u001b[0;32m~/ray/venv/lib/python3.8/site-packages/ray/_private/gcs_utils.py:192\u001b[0m, in \u001b[0;36m_auto_reconnect.<locals>.wrapper\u001b[0;34m(self, *args, **kwargs)\u001b[0m\n\u001b[1;32m    190\u001b[0m \u001b[39mexcept\u001b[39;00m \u001b[39mException\u001b[39;00m:\n\u001b[1;32m    191\u001b[0m     logger\u001b[39m.\u001b[39merror(\u001b[39mf\u001b[39m\u001b[39m\"\u001b[39m\u001b[39mConnecting to gcs failed. Error \u001b[39m\u001b[39m{\u001b[39;00me\u001b[39m}\u001b[39;00m\u001b[39m\"\u001b[39m)\n\u001b[0;32m--> 192\u001b[0m time\u001b[39m.\u001b[39;49msleep(\u001b[39m1\u001b[39;49m)\n\u001b[1;32m    193\u001b[0m remaining_retry \u001b[39m-\u001b[39m\u001b[39m=\u001b[39m \u001b[39m1\u001b[39m\n\u001b[1;32m    194\u001b[0m \u001b[39mcontinue\u001b[39;00m\n",
      "\u001b[0;31mKeyboardInterrupt\u001b[0m: "
     ]
    }
   ],
   "source": [
    "\n",
    "if ray.is_initialized():\n",
    "    ray.shutdown()\n",
    "\n",
    "ModelCatalog.register_custom_model(\"my_model\", CustomModel)\n",
    "ENV_SIZE = 8\n",
    "\n",
    "config = {\n",
    "    \"env\": MultiAgentGrid,  # or \"corridor\" if registered above\n",
    "    \"env_config\": {\n",
    "        \"render_mode\": 'none',  # 'all', 'first', or 'none'\n",
    "        \"size\": ENV_SIZE,\n",
    "        \"n_robots\": 2\n",
    "    },\n",
    "    \"render_env\": False,\n",
    "    # Use GPUs iff `RLLIB_NUM_GPUS` env var set to > 0.\n",
    "    \"lr\": 0.0001,\n",
    "    #\"lr\": 0.001,\n",
    "    \"num_gpus\": int(os.environ.get(\"RLLIB_NUM_GPUS\", \"0\")),\n",
    "    \"model\": {\n",
    "        \"custom_model\": \"my_model\",\n",
    "        \"vf_share_layers\": True,\n",
    "        \"fcnet_hiddens\": [128],\n",
    "        #\"fcnet_hiddens\": [64]\n",
    "    },\n",
    "    \"evaluation_config\": {\n",
    "        # Render the env while evaluating.\n",
    "        # Note that this will always only render the 1st RolloutWorker's\n",
    "        # env and only the 1st sub-env in a vectorized env.\n",
    "    },\n",
    "    \"num_workers\": 8,  # parallelism\n",
    "    \"framework\": \"tf2\",\n",
    "    \"disable_env_checking\": True\n",
    "}\n",
    "\n",
    "stop = {\n",
    "    \"training_iteration\": 10,\n",
    "    \"timesteps_total\": 10000\n",
    "}\n",
    "\n",
    "print(\"Training automatically with Ray Tune\")\n",
    "\n",
    "ray.init(include_dashboard=True, num_gpus=8)\n",
    "tuner = tune.Tuner(\n",
    "    \"PPO\",\n",
    "    param_space=config,\n",
    "    run_config=air.RunConfig(stop=stop),\n",
    "    tune_config=tune.TuneConfig(num_samples=1)\n",
    ")\n",
    "results = tuner.fit()"
   ]
  },
  {
   "cell_type": "code",
   "execution_count": null,
   "metadata": {},
   "outputs": [
    {
     "name": "stderr",
     "output_type": "stream",
     "text": [
      "/home/paul/ray/venv/lib/python3.8/site-packages/ray/_private/ray_option_utils.py:290: DeprecationWarning: Setting 'object_store_memory' for actors is deprecated since it doesn't actually reserve the required object store memory. Use object spilling that's enabled by default (https://docs.ray.io/en/master/ray-core/objects/object-spilling.html) instead to bypass the object store memory size limitation.\n",
      "  warnings.warn(\n",
      "\u001b[2m\u001b[36m(pid=10244)\u001b[0m /home/paul/ray/venv/lib/python3.8/site-packages/botocore/httpsession.py:41: DeprecationWarning: 'urllib3.contrib.pyopenssl' module is deprecated and will be removed in a future release of urllib3 2.x. Read more in this issue: https://github.com/urllib3/urllib3/issues/2680\n",
      "\u001b[2m\u001b[36m(pid=10244)\u001b[0m   from urllib3.contrib.pyopenssl import orig_util_SSLContext as SSLContext\n",
      "\u001b[2m\u001b[36m(pid=10245)\u001b[0m /home/paul/ray/venv/lib/python3.8/site-packages/botocore/httpsession.py:41: DeprecationWarning: 'urllib3.contrib.pyopenssl' module is deprecated and will be removed in a future release of urllib3 2.x. Read more in this issue: https://github.com/urllib3/urllib3/issues/2680\n",
      "\u001b[2m\u001b[36m(pid=10245)\u001b[0m   from urllib3.contrib.pyopenssl import orig_util_SSLContext as SSLContext\n",
      "\u001b[2m\u001b[36m(RolloutWorker pid=10244)\u001b[0m 2022-10-01 16:04:17,451\tWARNING env.py:147 -- Your env doesn't have a .spec.max_episode_steps attribute. This is fine if you have set 'horizon' in your config dictionary, or `soft_horizon`. However, if you haven't, 'horizon' will default to infinity, and your environment will not be reset.\n",
      "\u001b[2m\u001b[36m(RolloutWorker pid=10244)\u001b[0m 2022-10-01 16:04:17,451\tWARNING env.py:159 -- Your env reset() method appears to take 'seed' or 'return_info' arguments. Note that these are not yet supported in RLlib. Seeding will take place using 'env.seed()' and the info dict will not be returned from reset.\n",
      "2022-10-01 16:04:17,684\tINFO trainable.py:690 -- Restored on 172.19.42.156 from checkpoint: /home/paul/ray_results/PPO/PPO_MultiAgentGrid_aa687_00000_0_2022-10-01_16-00-15/checkpoint_000003\n",
      "2022-10-01 16:04:17,686\tINFO trainable.py:699 -- Current state after restoring: {'_iteration': 3, '_timesteps_total': None, '_time_total': 104.49040079116821, '_episodes_total': 173}\n"
     ]
    },
    {
     "name": "stdout",
     "output_type": "stream",
     "text": [
      "\u001b[2m\u001b[36m(RolloutWorker pid=10244)\u001b[0m ENV CONFIG----  {'render_mode': 'none', 'size': 8, 'n_robots': 2, worker=1/2, vector_idx=0, remote=False}\n",
      "\u001b[2m\u001b[36m(RolloutWorker pid=10244)\u001b[0m Model initialization: obs_space=Box(-1.0, 1.0, (6,), float32), action_space=MultiDiscrete([5 5])\n",
      "\u001b[2m\u001b[36m(RolloutWorker pid=10244)\u001b[0m Initializing FC Network: obs_space=Box(-1.0, 1.0, (6,), float32),  action_space=MultiDiscrete([5 5]), num_outputs=10, model_config={'_use_default_native_models': False, '_disable_preprocessor_api': False, '_disable_action_flattening': False, 'fcnet_hiddens': [128], 'fcnet_activation': 'tanh', 'conv_filters': None, 'conv_activation': 'relu', 'post_fcnet_hiddens': [], 'post_fcnet_activation': 'relu', 'free_log_std': False, 'no_final_linear': False, 'vf_share_layers': True, 'use_lstm': False, 'max_seq_len': 20, 'lstm_cell_size': 256, 'lstm_use_prev_action': False, 'lstm_use_prev_reward': False, '_time_major': False, 'use_attention': False, 'attention_num_transformer_units': 1, 'attention_dim': 64, 'attention_num_heads': 1, 'attention_head_dim': 32, 'attention_memory_inference': 50, 'attention_memory_training': 50, 'attention_position_wise_mlp_dim': 32, 'attention_init_gru_gate_bias': 2.0, 'attention_use_n_prev_actions': 0, 'attention_use_n_prev_rewards': 0, 'framestack': True, 'dim': 84, 'grayscale': False, 'zero_mean': True, 'custom_model': 'my_model', 'custom_model_config': {}, 'custom_action_dist': None, 'custom_preprocessor': None, 'lstm_use_prev_action_reward': -1}, name=default_model\n",
      "\u001b[2m\u001b[36m(RolloutWorker pid=10245)\u001b[0m ENV CONFIG----  {'render_mode': 'none', 'size': 8, 'n_robots': 2, worker=2/2, vector_idx=0, remote=False}\n",
      "\u001b[2m\u001b[36m(RolloutWorker pid=10245)\u001b[0m Model initialization: obs_space=Box(-1.0, 1.0, (6,), float32), action_space=MultiDiscrete([5 5])\n",
      "\u001b[2m\u001b[36m(RolloutWorker pid=10245)\u001b[0m Initializing FC Network: obs_space=Box(-1.0, 1.0, (6,), float32),  action_space=MultiDiscrete([5 5]), num_outputs=10, model_config={'_use_default_native_models': False, '_disable_preprocessor_api': False, '_disable_action_flattening': False, 'fcnet_hiddens': [128], 'fcnet_activation': 'tanh', 'conv_filters': None, 'conv_activation': 'relu', 'post_fcnet_hiddens': [], 'post_fcnet_activation': 'relu', 'free_log_std': False, 'no_final_linear': False, 'vf_share_layers': True, 'use_lstm': False, 'max_seq_len': 20, 'lstm_cell_size': 256, 'lstm_use_prev_action': False, 'lstm_use_prev_reward': False, '_time_major': False, 'use_attention': False, 'attention_num_transformer_units': 1, 'attention_dim': 64, 'attention_num_heads': 1, 'attention_head_dim': 32, 'attention_memory_inference': 50, 'attention_memory_training': 50, 'attention_position_wise_mlp_dim': 32, 'attention_init_gru_gate_bias': 2.0, 'attention_use_n_prev_actions': 0, 'attention_use_n_prev_rewards': 0, 'framestack': True, 'dim': 84, 'grayscale': False, 'zero_mean': True, 'custom_model': 'my_model', 'custom_model_config': {}, 'custom_action_dist': None, 'custom_preprocessor': None, 'lstm_use_prev_action_reward': -1}, name=default_model\n",
      "Model initialization: obs_space=Box(-1.0, 1.0, (6,), float32), action_space=MultiDiscrete([5 5])\n",
      "Initializing FC Network: obs_space=Box(-1.0, 1.0, (6,), float32),  action_space=MultiDiscrete([5 5]), num_outputs=10, model_config={'_use_default_native_models': False, '_disable_preprocessor_api': False, '_disable_action_flattening': False, 'fcnet_hiddens': [128], 'fcnet_activation': 'tanh', 'conv_filters': None, 'conv_activation': 'relu', 'post_fcnet_hiddens': [], 'post_fcnet_activation': 'relu', 'free_log_std': False, 'no_final_linear': False, 'vf_share_layers': True, 'use_lstm': False, 'max_seq_len': 20, 'lstm_cell_size': 256, 'lstm_use_prev_action': False, 'lstm_use_prev_reward': False, '_time_major': False, 'use_attention': False, 'attention_num_transformer_units': 1, 'attention_dim': 64, 'attention_num_heads': 1, 'attention_head_dim': 32, 'attention_memory_inference': 50, 'attention_memory_training': 50, 'attention_position_wise_mlp_dim': 32, 'attention_init_gru_gate_bias': 2.0, 'attention_use_n_prev_actions': 0, 'attention_use_n_prev_rewards': 0, 'framestack': True, 'dim': 84, 'grayscale': False, 'zero_mean': True, 'custom_model': 'my_model', 'custom_model_config': {}, 'custom_action_dist': None, 'custom_preprocessor': None, 'lstm_use_prev_action_reward': -1}, name=default_model\n"
     ]
    }
   ],
   "source": [
    "from copy import deepcopy\n",
    "from ray.rllib.agents.ppo import PPOTrainer\n",
    "best_result = results.get_best_result(metric=\"episode_reward_mean\", mode=\"max\")\n",
    "checkpoint = best_result.checkpoint\n",
    "\n",
    "trainer_cfg = {\n",
    "    'env': best_result.config['env'],\n",
    "    'env_config': best_result.config['env_config'],\n",
    "    'lr': best_result.config['lr'],\n",
    "    'model': deepcopy(best_result.config['model']),\n",
    "    'framework': best_result.config['framework'],\n",
    "}\n",
    "\n",
    "trainer = PPOTrainer(config=trainer_cfg)\n",
    "trainer.restore(checkpoint)"
   ]
  },
  {
   "cell_type": "code",
   "execution_count": null,
   "metadata": {},
   "outputs": [
    {
     "name": "stdout",
     "output_type": "stream",
     "text": [
      "ENV CONFIG----  {'render_mode': 'all', 'size': 8, 'n_robots': 2, worker=0/1, vector_idx=0, remote=False}\n"
     ]
    }
   ],
   "source": [
    "env_cfg = EnvContext(env_config=best_result.config['env_config'], worker_index=0, num_workers=1)\n",
    "env_cfg['render_mode'] = 'all'\n",
    "\n",
    "env = MultiAgentGrid(config=env_cfg)"
   ]
  },
  {
   "cell_type": "code",
   "execution_count": null,
   "metadata": {},
   "outputs": [
    {
     "ename": "error",
     "evalue": "font not initialized",
     "output_type": "error",
     "traceback": [
      "\u001b[0;31m---------------------------------------------------------------------------\u001b[0m",
      "\u001b[0;31merror\u001b[0m                                     Traceback (most recent call last)",
      "Cell \u001b[0;32mIn [6], line 3\u001b[0m\n\u001b[1;32m      1\u001b[0m n_record \u001b[38;5;241m=\u001b[39m \u001b[38;5;241m50\u001b[39m\n\u001b[0;32m----> 3\u001b[0m observation \u001b[38;5;241m=\u001b[39m \u001b[43menv\u001b[49m\u001b[38;5;241;43m.\u001b[39;49m\u001b[43mreset\u001b[49m\u001b[43m(\u001b[49m\u001b[43m)\u001b[49m\n\u001b[1;32m      4\u001b[0m done \u001b[38;5;241m=\u001b[39m \u001b[38;5;28;01mFalse\u001b[39;00m\n\u001b[1;32m      5\u001b[0m n_recorded \u001b[38;5;241m=\u001b[39m \u001b[38;5;241m0\u001b[39m\n",
      "File \u001b[0;32m~/ray/venv/local/environment/multi_agent_grid.py:93\u001b[0m, in \u001b[0;36mMultiAgentGrid.reset\u001b[0;34m(self, seed)\u001b[0m\n\u001b[1;32m     89\u001b[0m \u001b[39mself\u001b[39m\u001b[39m.\u001b[39m_agent_locations \u001b[39m=\u001b[39m np\u001b[39m.\u001b[39marray(agent_locations)\u001b[39m.\u001b[39mflatten()\n\u001b[1;32m     92\u001b[0m \u001b[39mif\u001b[39;00m \u001b[39mself\u001b[39m\u001b[39m.\u001b[39mrender_this:\n\u001b[0;32m---> 93\u001b[0m     \u001b[39mself\u001b[39;49m\u001b[39m.\u001b[39;49m_render_frame()\n\u001b[1;32m     95\u001b[0m \u001b[39mreturn\u001b[39;00m \u001b[39mself\u001b[39m\u001b[39m.\u001b[39m_get_obs()\n",
      "File \u001b[0;32m~/ray/venv/local/environment/multi_agent_grid.py:186\u001b[0m, in \u001b[0;36mMultiAgentGrid._render_frame\u001b[0;34m(self)\u001b[0m\n\u001b[1;32m    177\u001b[0m     pygame\u001b[39m.\u001b[39mdraw\u001b[39m.\u001b[39mline(\n\u001b[1;32m    178\u001b[0m         canvas,\n\u001b[1;32m    179\u001b[0m         \u001b[39m0\u001b[39m,\n\u001b[0;32m   (...)\u001b[0m\n\u001b[1;32m    182\u001b[0m         width\u001b[39m=\u001b[39m\u001b[39m3\u001b[39m,\n\u001b[1;32m    183\u001b[0m     )\n\u001b[1;32m    185\u001b[0m \u001b[39m# write summary stats\u001b[39;00m\n\u001b[0;32m--> 186\u001b[0m font \u001b[39m=\u001b[39m pygame\u001b[39m.\u001b[39;49mfont\u001b[39m.\u001b[39;49mFont(\u001b[39m'\u001b[39;49m\u001b[39mfreesansbold.ttf\u001b[39;49m\u001b[39m'\u001b[39;49m, \u001b[39m32\u001b[39;49m)\n\u001b[1;32m    187\u001b[0m green\u001b[39m=\u001b[39m(\u001b[39m0\u001b[39m, \u001b[39m255\u001b[39m, \u001b[39m255\u001b[39m)\n\u001b[1;32m    188\u001b[0m blue\u001b[39m=\u001b[39m(\u001b[39m0\u001b[39m, \u001b[39m0\u001b[39m, \u001b[39m255\u001b[39m)\n",
      "\u001b[0;31merror\u001b[0m: font not initialized"
     ]
    }
   ],
   "source": [
    "n_record = 50\n",
    "\n",
    "observation = env.reset()\n",
    "done = False\n",
    "n_recorded = 0\n",
    "while n_recorded < n_record:\n",
    "  env.render()\n",
    "  action = trainer.compute_single_action(observation)\n",
    "  observation, reward, done, info = env.step(action)\n",
    "  if done:\n",
    "    print(f\"Completed run {n_recorded}\")\n",
    "    env.reset()\n",
    "    n_recorded += 1\n",
    "env.close()"
   ]
  },
  {
   "cell_type": "code",
   "execution_count": null,
   "metadata": {},
   "outputs": [],
   "source": []
  }
 ],
 "metadata": {
  "kernelspec": {
   "display_name": "projectname",
   "language": "python",
   "name": "projectname"
  },
  "language_info": {
   "codemirror_mode": {
    "name": "ipython",
    "version": 3
   },
   "file_extension": ".py",
   "mimetype": "text/x-python",
   "name": "python",
   "nbconvert_exporter": "python",
   "pygments_lexer": "ipython3",
   "version": "3.8.10"
  },
  "orig_nbformat": 4,
  "vscode": {
   "interpreter": {
    "hash": "2cf05b13801ce406faba0610bfbd48005868e90e6389a47cdd5cec828051691a"
   }
  }
 },
 "nbformat": 4,
 "nbformat_minor": 2
}
