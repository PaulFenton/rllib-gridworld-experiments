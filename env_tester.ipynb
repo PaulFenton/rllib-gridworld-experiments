{
 "cells": [
  {
   "cell_type": "code",
   "execution_count": 1,
   "metadata": {},
   "outputs": [],
   "source": [
    "\n",
    "\n",
    "RIGHT = 0\n",
    "UP = 1\n",
    "LEFT = 2\n",
    "DOWN = 3\n",
    "NOOP = 4\n",
    "\n",
    "class BaselineAgent:\n",
    "\n",
    "    def __init__(self, n_robots):\n",
    "        pass\n",
    "\n",
    "    def compute_single_action(self, observation):\n",
    "\n",
    "\n",
    "\n",
    "        agents = observation['agents'].reshape((2,2))\n",
    "        target = observation['target']\n",
    "\n",
    "        min_distance, min_agent = 1e9, None\n",
    "        for i, agent in enumerate(agents):\n",
    "            dx = target[0] - agent[0]\n",
    "            dy = target[1] - agent[1]\n",
    "            dist = abs(dx) + abs(dy)\n",
    "            if dist < min_distance:\n",
    "                min_distance = dist\n",
    "                min_agent = i\n",
    "\n",
    "        action_choice = NOOP\n",
    "        if target[0] - agents[min_agent][0] > 0:\n",
    "            action_choice = RIGHT\n",
    "        elif target[0] - agents[min_agent][0] < 0:\n",
    "            action_choice = LEFT\n",
    "        elif target[1] - agents[min_agent][1] > 0:\n",
    "            action_choice = UP\n",
    "        elif target[1] - agents[min_agent][1] < 0:\n",
    "            action_choice = DOWN\n",
    "\n",
    "        action = [NOOP for i in range(len(agents))]\n",
    "        action[min_agent] = action_choice\n",
    "        #print(f\"Action: {action}\")\n",
    "\n",
    "        return action\n",
    "dummy = BaselineAgent(2)"
   ]
  },
  {
   "cell_type": "code",
   "execution_count": 2,
   "metadata": {},
   "outputs": [
    {
     "name": "stdout",
     "output_type": "stream",
     "text": [
      "pygame 2.1.2 (SDL 2.0.16, Python 3.8.10)\n",
      "Hello from the pygame community. https://www.pygame.org/contribute.html\n"
     ]
    },
    {
     "data": {
      "text/plain": [
       "(5, 0)"
      ]
     },
     "execution_count": 2,
     "metadata": {},
     "output_type": "execute_result"
    }
   ],
   "source": [
    "import pygame\n",
    "pygame.init()"
   ]
  },
  {
   "cell_type": "code",
   "execution_count": 3,
   "metadata": {},
   "outputs": [
    {
     "name": "stderr",
     "output_type": "stream",
     "text": [
      "/home/paul/ray/venv/lib/python3.8/site-packages/botocore/httpsession.py:41: DeprecationWarning: 'urllib3.contrib.pyopenssl' module is deprecated and will be removed in a future release of urllib3 2.x. Read more in this issue: https://github.com/urllib3/urllib3/issues/2680\n",
      "  from urllib3.contrib.pyopenssl import orig_util_SSLContext as SSLContext\n"
     ]
    },
    {
     "name": "stdout",
     "output_type": "stream",
     "text": [
      "ENV CONFIG----  {'render_mode': 'all', 'size': 8, 'n_robots': 2, worker=0/1, vector_idx=0, remote=False}\n"
     ]
    }
   ],
   "source": [
    "from ray.rllib.env.env_context import EnvContext\n",
    "from environment.multi_agent_grid import MultiAgentGrid\n",
    "\n",
    "env_cfg = EnvContext(env_config={\n",
    "        \"render_mode\": 'all', \n",
    "        \"size\": 8,\n",
    "        \"n_robots\": 2\n",
    "}, worker_index=0, num_workers=1)\n",
    "\n",
    "env = MultiAgentGrid(config=env_cfg)"
   ]
  },
  {
   "cell_type": "code",
   "execution_count": 4,
   "metadata": {},
   "outputs": [
    {
     "name": "stdout",
     "output_type": "stream",
     "text": [
      "Completed run 0\n",
      "Completed run 10\n",
      "Moviepy - Building video recording_0_8bf810.mp4.\n",
      "Moviepy - Writing video recording_0_8bf810.mp4\n",
      "\n"
     ]
    },
    {
     "name": "stderr",
     "output_type": "stream",
     "text": [
      "                                                              "
     ]
    },
    {
     "name": "stdout",
     "output_type": "stream",
     "text": [
      "Moviepy - Done !\n",
      "Moviepy - video ready recording_0_8bf810.mp4\n"
     ]
    },
    {
     "name": "stderr",
     "output_type": "stream",
     "text": [
      "\r"
     ]
    }
   ],
   "source": [
    "n_record = 20\n",
    "\n",
    "observation = env.reset()\n",
    "done = False\n",
    "n_recorded = 0\n",
    "while n_recorded < n_record:\n",
    "  env.render()\n",
    "  action = dummy.compute_single_action(observation)\n",
    "  observation, reward, done, info = env.step(action)\n",
    "  if done:\n",
    "    if n_recorded % 10 == 0: print(f\"Completed run {n_recorded}\")\n",
    "    env.reset()\n",
    "    n_recorded += 1\n",
    "env.close()"
   ]
  },
  {
   "cell_type": "code",
   "execution_count": 5,
   "metadata": {},
   "outputs": [],
   "source": [
    "# aa = 100.0000\n",
    "# bb = -100.00000\n",
    "# print(f\"Reward: {aa:12.2f}, Wins: \")\n",
    "# print(f\"Reward: {bb:12.2f}, Wins: \")"
   ]
  },
  {
   "cell_type": "code",
   "execution_count": null,
   "metadata": {},
   "outputs": [],
   "source": []
  }
 ],
 "metadata": {
  "kernelspec": {
   "display_name": "Python 3.8.10 ('venv': venv)",
   "language": "python",
   "name": "python3"
  },
  "language_info": {
   "codemirror_mode": {
    "name": "ipython",
    "version": 3
   },
   "file_extension": ".py",
   "mimetype": "text/x-python",
   "name": "python",
   "nbconvert_exporter": "python",
   "pygments_lexer": "ipython3",
   "version": "3.8.10"
  },
  "orig_nbformat": 4,
  "vscode": {
   "interpreter": {
    "hash": "2cf05b13801ce406faba0610bfbd48005868e90e6389a47cdd5cec828051691a"
   }
  }
 },
 "nbformat": 4,
 "nbformat_minor": 2
}
